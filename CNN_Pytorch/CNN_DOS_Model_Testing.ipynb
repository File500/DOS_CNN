{
 "cells": [
  {
   "cell_type": "code",
   "outputs": [],
   "source": [
    "# Surpress warnings:\n",
    "def warn(*args, **kwargs):\n",
    "    pass\n",
    "import warnings\n",
    "warnings.warn = warn\n",
    "\n",
    "import torch\n",
    "import torch.nn as nn\n",
    "import torchvision.transforms as transforms\n",
    "import torchvision.datasets as dset\n",
    "import matplotlib.pylab as plt\n",
    "from torch.utils.data import DataLoader\n",
    "import numpy as np\n",
    "import time as timer\n",
    "import random\n",
    "\n",
    "import PIL\n",
    "from PIL import Image"
   ],
   "metadata": {
    "collapsed": false,
    "ExecuteTime": {
     "end_time": "2024-04-22T12:22:54.296539800Z",
     "start_time": "2024-04-22T12:22:54.293549800Z"
    }
   },
   "id": "2833378a3ea46c4e",
   "execution_count": 71
  },
  {
   "cell_type": "code",
   "execution_count": 72,
   "id": "initial_id",
   "metadata": {
    "collapsed": true,
    "ExecuteTime": {
     "end_time": "2024-04-22T12:22:54.307794100Z",
     "start_time": "2024-04-22T12:22:54.298534500Z"
    }
   },
   "outputs": [],
   "source": [
    "IMAGE_SIZE = 28\n",
    "\n",
    "composed = transforms.Compose([transforms.Resize((IMAGE_SIZE, IMAGE_SIZE), PIL.Image.LANCZOS),transforms.Grayscale(), transforms.ToTensor()])\n",
    "tesT_DIR = './test_images/' "
   ]
  },
  {
   "cell_type": "code",
   "outputs": [],
   "source": [
    "test_dataset = dset.ImageFolder(root=tesT_DIR, transform=composed)\n",
    "dataloader = DataLoader(test_dataset,batch_size=10, shuffle=True)"
   ],
   "metadata": {
    "collapsed": false,
    "ExecuteTime": {
     "end_time": "2024-04-22T12:22:54.332237500Z",
     "start_time": "2024-04-22T12:22:54.305578100Z"
    }
   },
   "id": "127bf0989e3b6e3f",
   "execution_count": 73
  },
  {
   "cell_type": "code",
   "outputs": [
    {
     "name": "stdout",
     "output_type": "stream",
     "text": [
      "torch.Size([10, 1, 28, 28]) tensor([7, 2, 5, 4, 0, 2, 9, 6, 2, 8])\n",
      "torch.Size([10, 1, 28, 28]) tensor([4, 1, 5, 3, 3, 8, 8, 0, 3, 8])\n",
      "torch.Size([10, 1, 28, 28]) tensor([7, 9, 7, 6, 9, 5, 4, 0, 4, 1])\n",
      "torch.Size([10, 1, 28, 28]) tensor([8, 5, 5, 3, 9, 6, 7, 1, 2, 6])\n",
      "torch.Size([10, 1, 28, 28]) tensor([3, 1, 0, 7, 6, 2, 0, 9, 4, 1])\n"
     ]
    }
   ],
   "source": [
    "for images, labels in dataloader:\n",
    "    # Your training loop here\n",
    "    print(images.shape, labels)"
   ],
   "metadata": {
    "collapsed": false,
    "ExecuteTime": {
     "end_time": "2024-04-22T12:22:55.565046300Z",
     "start_time": "2024-04-22T12:22:54.311292700Z"
    }
   },
   "id": "b32c7fed6ead89af",
   "execution_count": 74
  },
  {
   "cell_type": "code",
   "outputs": [],
   "source": [
    "class CNN_batch(nn.Module):\n",
    "\n",
    "    # Contructor\n",
    "    def __init__(self, out_1=28, out_2=56, out_3=100, number_of_classes=10):\n",
    "        super(CNN_batch, self).__init__()\n",
    "        self.cnn1 = nn.Conv2d(in_channels=1, out_channels=out_1, kernel_size=5, padding=2)\n",
    "        self.conv1_bn = nn.BatchNorm2d(out_1)\n",
    "\n",
    "        self.maxpool1=nn.MaxPool2d(kernel_size=2)\n",
    "\n",
    "        self.cnn2 = nn.Conv2d(in_channels=out_1, out_channels=out_2, kernel_size=5, stride=1, padding=2)\n",
    "        self.conv2_bn = nn.BatchNorm2d(out_2)\n",
    "\n",
    "        self.maxpool2=nn.MaxPool2d(kernel_size=2)\n",
    "\n",
    "        self.cnn3 = nn.Conv2d(in_channels=out_2, out_channels=out_3, kernel_size=5, stride=1, padding=2)\n",
    "        self.conv3_bn = nn.BatchNorm2d(out_3)\n",
    "\n",
    "        self.maxpool3=nn.MaxPool2d(kernel_size=2)\n",
    "\n",
    "        self.fc1 = nn.Linear(out_3*9, number_of_classes)\n",
    "        self.bn_fc1 = nn.BatchNorm1d(10)\n",
    "\n",
    "    # Prediction\n",
    "    def forward(self, x):\n",
    "        x = self.cnn1(x)\n",
    "        x = self.conv1_bn(x)\n",
    "        x = torch.relu(x)\n",
    "        x = self.maxpool1(x)\n",
    "\n",
    "        x = self.cnn2(x)\n",
    "        x = self.conv2_bn(x)\n",
    "        x = torch.relu(x)\n",
    "        x = self.maxpool2(x)\n",
    "\n",
    "        x = self.cnn3(x)\n",
    "        x = self.conv3_bn(x)\n",
    "        x = torch.relu(x)\n",
    "        x = self.maxpool3(x)\n",
    "\n",
    "        x = x.view(x.size(0), -1)\n",
    "        x = self.fc1(x)\n",
    "        x = self.bn_fc1(x)\n",
    "        return x"
   ],
   "metadata": {
    "collapsed": false,
    "ExecuteTime": {
     "end_time": "2024-04-22T12:22:55.573398800Z",
     "start_time": "2024-04-22T12:22:55.569035600Z"
    }
   },
   "id": "8f8ef8aadc66422b",
   "execution_count": 75
  },
  {
   "cell_type": "code",
   "outputs": [
    {
     "data": {
      "text/plain": "<All keys matched successfully>"
     },
     "execution_count": 76,
     "metadata": {},
     "output_type": "execute_result"
    }
   ],
   "source": [
    "CPU_model = CNN_batch()\n",
    "GPU_model = CNN_batch()\n",
    "\n",
    "CPU_model.load_state_dict(torch.load('CNN_model_CPU.pt'))\n",
    "\n",
    "GPU_model.load_state_dict(torch.load('CNN_model_GPU.pt'))"
   ],
   "metadata": {
    "collapsed": false,
    "ExecuteTime": {
     "end_time": "2024-04-22T12:22:55.610322Z",
     "start_time": "2024-04-22T12:22:55.574396600Z"
    }
   },
   "id": "f8acd9d7e2e061cc",
   "execution_count": 76
  },
  {
   "cell_type": "code",
   "outputs": [],
   "source": [
    "cpu_acc = 0\n",
    "gpu_acc = 0 \n",
    "correct = 0\n",
    "image_count = 50\n",
    "\n",
    "for images, labels in dataloader:\n",
    "    # Your training loop here\n",
    "    z = CPU_model(images)\n",
    "    _, yhat = torch.max(z.data, 1)  # Get the predictions\n",
    "    correct += (yhat == labels).sum().item()\n",
    "    \n",
    "cpu_acc = correct / image_count\n",
    "correct = 0\n",
    "\n",
    "for images, labels in dataloader:\n",
    "    # Your training loop here\n",
    "    z = GPU_model(images)\n",
    "    _, yhat = torch.max(z.data, 1)  # Get the predictions\n",
    "    correct += (yhat == labels).sum().item()\n",
    "\n",
    "gpu_acc = correct / image_count"
   ],
   "metadata": {
    "collapsed": false,
    "ExecuteTime": {
     "end_time": "2024-04-22T12:22:57.830877800Z",
     "start_time": "2024-04-22T12:22:55.600349600Z"
    }
   },
   "id": "cccddb77aa3c4530",
   "execution_count": 77
  },
  {
   "cell_type": "code",
   "outputs": [
    {
     "data": {
      "text/plain": "0.18"
     },
     "execution_count": 78,
     "metadata": {},
     "output_type": "execute_result"
    }
   ],
   "source": [
    "cpu_acc"
   ],
   "metadata": {
    "collapsed": false,
    "ExecuteTime": {
     "end_time": "2024-04-22T12:22:57.835926200Z",
     "start_time": "2024-04-22T12:22:57.832872700Z"
    }
   },
   "id": "f4fa1b5e4a09d909",
   "execution_count": 78
  },
  {
   "cell_type": "code",
   "outputs": [
    {
     "data": {
      "text/plain": "0.12"
     },
     "execution_count": 79,
     "metadata": {},
     "output_type": "execute_result"
    }
   ],
   "source": [
    "gpu_acc"
   ],
   "metadata": {
    "collapsed": false,
    "ExecuteTime": {
     "end_time": "2024-04-22T12:22:57.842908Z",
     "start_time": "2024-04-22T12:22:57.836923900Z"
    }
   },
   "id": "20dda06b8e54613",
   "execution_count": 79
  },
  {
   "cell_type": "code",
   "outputs": [
    {
     "data": {
      "text/plain": "<Figure size 800x800 with 1 Axes>",
      "image/png": "[encoded data removed]"
     },
     "metadata": {},
     "output_type": "display_data"
    }
   ],
   "source": [
    "times = [cpu_acc, gpu_acc]\n",
    "labels = ['CPU', 'GPU']\n",
    "colors = ['blue', 'green']\n",
    "\n",
    "plt.figure(figsize=(8, 8))\n",
    "plt.bar(labels, times, color=colors)\n",
    "plt.title('Accuracy on unseen data for CPU and GPU')\n",
    "plt.xlabel('Device used')\n",
    "plt.ylabel('Accuracy')\n",
    "for i,j in enumerate(times):\n",
    "    plt.text(i,j,np.round(j,4))\n",
    "plt.show()"
   ],
   "metadata": {
    "collapsed": false,
    "ExecuteTime": {
     "end_time": "2024-04-22T12:46:09.496038100Z",
     "start_time": "2024-04-22T12:46:09.303421100Z"
    }
   },
   "id": "a4c583e1a2a3cf3d",
   "execution_count": 80
  }
 ],
 "metadata": {
  "kernelspec": {
   "display_name": "Python 3",
   "language": "python",
   "name": "python3"
  },
  "language_info": {
   "codemirror_mode": {
    "name": "ipython",
    "version": 2
   },
   "file_extension": ".py",
   "mimetype": "text/x-python",
   "name": "python",
   "nbconvert_exporter": "python",
   "pygments_lexer": "ipython2",
   "version": "2.7.6"
  }
 },
 "nbformat": 4,
 "nbformat_minor": 5
}
