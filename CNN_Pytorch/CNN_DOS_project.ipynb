{
 "cells": [
  {
   "cell_type": "code",
   "execution_count": null,
   "id": "initial_id",
   "metadata": {
    "collapsed": true
   },
   "outputs": [],
   "source": [
    "# Surpress warnings:\n",
    "def warn(*args, **kwargs):\n",
    "    pass\n",
    "import warnings\n",
    "warnings.warn = warn\n",
    "\n",
    "import torch\n",
    "import torch.nn as nn\n",
    "import torchvision.transforms as transforms\n",
    "import torchvision.datasets as dsets\n",
    "import matplotlib.pylab as plt\n",
    "import numpy as np\n",
    "from torch import cuda as cd\n",
    "import time as timer"
   ]
  },
  {
   "cell_type": "code",
   "outputs": [],
   "source": [
    "cd.is_available()"
   ],
   "metadata": {
    "collapsed": false
   },
   "id": "a4bd1b4c3c342b87",
   "execution_count": null
  },
  {
   "cell_type": "code",
   "outputs": [],
   "source": [
    "def plot_channels(W, name):\n",
    "    #number of output channels \n",
    "    n_out=W.shape[0]\n",
    "    #number of input channels \n",
    "    n_in=W.shape[1]\n",
    "    w_min=W.min().item()\n",
    "    w_max=W.max().item()\n",
    "    fig, axes = plt.subplots(n_out,n_in, figsize=(10,10))\n",
    "    fig.subplots_adjust(hspace = 0.3, wspace = 0.3)\n",
    "    out_index=0\n",
    "    in_index=0\n",
    "    #plot outputs as rows inputs as columns \n",
    "    print(name)\n",
    "    for ax in axes.flat:\n",
    "\n",
    "        if in_index>n_in-1:\n",
    "            out_index=out_index+1\n",
    "            in_index=0\n",
    "\n",
    "        ax.imshow(W[out_index,in_index,:,:], vmin=w_min, vmax=w_max, cmap='seismic')\n",
    "        ax.set_yticklabels([])\n",
    "        ax.set_xticklabels([])\n",
    "        in_index=in_index+1\n",
    "\n",
    "    plt.show()"
   ],
   "metadata": {
    "collapsed": false
   },
   "id": "b0387b4bb8caf540",
   "execution_count": null
  },
  {
   "cell_type": "code",
   "outputs": [],
   "source": [
    "def show_data(data_sample):\n",
    "    plt.imshow(data_sample[0].numpy().reshape(IMAGE_SIZE, IMAGE_SIZE), cmap='gray')\n",
    "    plt.title('y = '+ str(data_sample[1]))"
   ],
   "metadata": {
    "collapsed": false
   },
   "id": "8745b8b5bbb190dc",
   "execution_count": null
  },
  {
   "cell_type": "code",
   "outputs": [],
   "source": [
    "def plot_activations(A,number_rows= 1,name=\"\"):\n",
    "    A=A[0,:,:,:].detach().numpy()\n",
    "    n_activations=A.shape[0]\n",
    "\n",
    "\n",
    "    print(n_activations)\n",
    "    A_min=A.min().item()\n",
    "    A_max=A.max().item()\n",
    "\n",
    "    if n_activations==1:\n",
    "\n",
    "        # Plot the image.\n",
    "        plt.imshow(A[0,:], vmin=A_min, vmax=A_max, cmap='seismic')\n",
    "\n",
    "    else:\n",
    "        fig, axes = plt.subplots(number_rows, n_activations//number_rows,figsize=(10,10))\n",
    "        fig.subplots_adjust(hspace = 3)\n",
    "        print(name)\n",
    "        for i,ax in enumerate(axes.flat):\n",
    "            if i< n_activations:\n",
    "                # Set the label for the sub-plot.\n",
    "                ax.set_xlabel( \"activation:{0}\".format(i+1))\n",
    "\n",
    "                # Plot the image.\n",
    "                ax.imshow(A[i,:], vmin=A_min, vmax=A_max, cmap='seismic')\n",
    "                ax.set_xticks([])\n",
    "                ax.set_yticks([])\n",
    "    plt.show()"
   ],
   "metadata": {
    "collapsed": false
   },
   "id": "704af6763918f00e",
   "execution_count": null
  },
  {
   "cell_type": "code",
   "outputs": [],
   "source": [
    "def plot_parameters(W, number_rows=1, name=\"\", i=0):\n",
    "    W = W.data[:, i, :, :]\n",
    "    n_filters = W.shape[0]\n",
    "    w_min = W.min().item()\n",
    "    w_max = W.max().item()\n",
    "    fig, axes = plt.subplots(number_rows, n_filters // number_rows, figsize=(10,10))\n",
    "    fig.subplots_adjust(hspace=3,wspace=1)\n",
    "\n",
    "    for i, ax in enumerate(axes.flat):\n",
    "        if i < n_filters:\n",
    "            # Set the label for the sub-plot.\n",
    "            ax.set_xlabel(\"kernel:{0}\".format(i + 1))\n",
    "\n",
    "            # Plot the image.\n",
    "            ax.imshow(W[i, :], vmin=w_min, vmax=w_max, cmap='seismic')\n",
    "            ax.set_xticks([])\n",
    "            ax.set_yticks([])\n",
    "    plt.suptitle(name, fontsize=10)\n",
    "    plt.show()"
   ],
   "metadata": {
    "collapsed": false
   },
   "id": "7bb232cd1076cca2",
   "execution_count": null
  },
  {
   "cell_type": "code",
   "outputs": [],
   "source": [
    "def conv_output_shape(h_w, kernel_size=1, stride=1, pad=0, dilation=1):\n",
    "    #by Duane Nielsen\n",
    "    from math import floor\n",
    "    if type(kernel_size) is not tuple:\n",
    "        kernel_size = (kernel_size, kernel_size)\n",
    "    h = floor( ((h_w[0] + (2 * pad) - ( dilation * (kernel_size[0] - 1) ) - 1 )/ stride) + 1)\n",
    "    w = floor( ((h_w[1] + (2 * pad) - ( dilation * (kernel_size[1] - 1) ) - 1 )/ stride) + 1)\n",
    "    return h, w"
   ],
   "metadata": {
    "collapsed": false
   },
   "id": "9d89ddab88fe18de",
   "execution_count": null
  },
  {
   "cell_type": "code",
   "outputs": [],
   "source": [
    "def train_model(model, optimizer, criterion, train_loader, validation_loader, validation_dataset, n_epochs=10, use_cuda=True):\n",
    "    \n",
    "    if use_cuda:\n",
    "        device = torch.device(\"cuda\")\n",
    "    else:\n",
    "        device = torch.device(\"cpu\")\n",
    "    model.to(device=device)\n",
    "    #global variable \n",
    "    N_test=len(validation_dataset)\n",
    "    accuracy_list=[]\n",
    "    loss_list=[]\n",
    "    for epoch in range(n_epochs):\n",
    "        for x, y in train_loader:\n",
    "            model.train()\n",
    "            optimizer.zero_grad()\n",
    "            z = model(x)\n",
    "            loss = criterion(z, y)\n",
    "            loss.backward()\n",
    "            optimizer.step()\n",
    "            loss_list.append(loss.data)\n",
    "\n",
    "        correct=0\n",
    "        #perform a prediction on the validation  data  \n",
    "        for x_test, y_test in validation_loader:\n",
    "            model.eval()\n",
    "            z = model(x_test)\n",
    "            _, yhat = torch.max(z.data, 1)\n",
    "            correct += (yhat == y_test).sum().item()\n",
    "        accuracy = correct / N_test\n",
    "        accuracy_list.append(accuracy)\n",
    "\n",
    "    return accuracy_list, loss_list"
   ],
   "metadata": {
    "collapsed": false
   },
   "id": "78b46d03e67140d6",
   "execution_count": null
  },
  {
   "cell_type": "code",
   "outputs": [],
   "source": [
    "class CNN_batch(nn.Module):\n",
    "\n",
    "    # Contructor\n",
    "    def __init__(self, out_1=16, out_2=32, out_3=64,number_of_classes=10):\n",
    "        super(CNN_batch, self).__init__()\n",
    "        self.cnn1 = nn.Conv2d(in_channels=1, out_channels=out_1, kernel_size=5, padding=2)\n",
    "        self.conv1_bn = nn.BatchNorm2d(out_1)\n",
    "\n",
    "        self.maxpool1=nn.MaxPool2d(kernel_size=2)\n",
    "\n",
    "        self.cnn2 = nn.Conv2d(in_channels=out_1, out_channels=out_2, kernel_size=5, stride=1, padding=2)\n",
    "        self.conv2_bn = nn.BatchNorm2d(out_2)\n",
    "\n",
    "        self.maxpool2=nn.MaxPool2d(kernel_size=2)\n",
    "\n",
    "        self.cnn3 = nn.Conv2d(in_channels=out_2, out_channels=out_3, kernel_size=5, stride=1, padding=2)\n",
    "        self.conv3_bn = nn.BatchNorm2d(out_3)\n",
    "\n",
    "        self.maxpool3=nn.MaxPool2d(kernel_size=2)\n",
    "        \n",
    "        self.fc1 = nn.Linear(out_3*4, number_of_classes)\n",
    "        self.bn_fc1 = nn.BatchNorm1d(10)\n",
    "\n",
    "    # Prediction\n",
    "    def forward(self, x):\n",
    "        x = self.cnn1(x)\n",
    "        x = self.conv1_bn(x)\n",
    "        x = torch.relu(x)\n",
    "        x = self.maxpool1(x)\n",
    "        \n",
    "        x = self.cnn2(x)\n",
    "        x = self.conv2_bn(x)\n",
    "        x = torch.relu(x)\n",
    "        x = self.maxpool2(x)\n",
    "\n",
    "        x = self.cnn3(x)\n",
    "        x = self.conv3_bn(x)\n",
    "        x = torch.relu(x)\n",
    "        x = self.maxpool3(x)\n",
    "        \n",
    "        x = x.view(x.size(0), -1)\n",
    "        x = self.fc1(x)\n",
    "        x = self.bn_fc1(x)\n",
    "        return x\n",
    "\n",
    "    def activations(self, x):\n",
    "        #outputs activation this is not necessary\n",
    "        z1 = self.cnn1(x)\n",
    "        a1 = torch.relu(z1)\n",
    "        out0 = self.maxpool1(a1)\n",
    "\n",
    "        z2 = self.cnn2(out0)\n",
    "        a2 = torch.relu(z2)\n",
    "        out1 = self.maxpool2(a2)\n",
    "\n",
    "        z3 = self.cnn3(out1)\n",
    "        a3 = torch.relu(z3)\n",
    "        out2 = self.maxpool3(a3)\n",
    "        \n",
    "        out = out0.view(out0.size(0),-1)\n",
    "        return z1, a1, z2, a2, z3, a3, out0, out1, out2, out"
   ],
   "metadata": {
    "collapsed": false
   },
   "id": "e6f66b4aae9d3eea",
   "execution_count": null
  },
  {
   "cell_type": "code",
   "outputs": [],
   "source": [
    "model_CNN_BATCH = CNN_batch()\n",
    "print(model_CNN_BATCH)"
   ],
   "metadata": {
    "collapsed": false
   },
   "id": "e156a6e4119f25f4",
   "execution_count": null
  },
  {
   "cell_type": "code",
   "outputs": [],
   "source": [
    "out=conv_output_shape((16,16), kernel_size=5, stride=1, pad=2, dilation=1)\n",
    "print('Image size after first convolution:',out)\n",
    "out1=conv_output_shape(out, kernel_size=5, stride=1, pad=2, dilation=1)\n",
    "print('Image size after second convolution:',out1)\n",
    "out2=conv_output_shape(out1, kernel_size=5, stride=1, pad=2, dilation=1)\n",
    "print('Image size after third convolution:',out2)"
   ],
   "metadata": {
    "collapsed": false
   },
   "id": "ff47147d0f976ead",
   "execution_count": null
  },
  {
   "cell_type": "code",
   "outputs": [],
   "source": [
    "plot_parameters(model_CNN_BATCH.state_dict()['cnn1.weight'], number_rows=4, name=\"1st layer kernels before training \")\n",
    "plot_parameters(model_CNN_BATCH.state_dict()['cnn2.weight'], number_rows=4, name='2nd layer kernels before training' )\n",
    "plot_parameters(model_CNN_BATCH.state_dict()['cnn3.weight'], number_rows=4, name='3nd layer kernels before training' )"
   ],
   "metadata": {
    "collapsed": false
   },
   "id": "553827e753166b1b",
   "execution_count": null
  },
  {
   "cell_type": "code",
   "outputs": [],
   "source": [
    "IMAGE_SIZE = 16\n",
    "\n",
    "composed = transforms.Compose([transforms.Resize((IMAGE_SIZE, IMAGE_SIZE)), transforms.ToTensor()])"
   ],
   "metadata": {
    "collapsed": false
   },
   "id": "f6cec3906e812a17",
   "execution_count": null
  },
  {
   "cell_type": "code",
   "outputs": [],
   "source": [
    "train_dataset = dsets.MNIST(root='./data', train=True, download=True, transform=composed)\n",
    "validation_dataset = dsets.MNIST(root='./data', train=False, download=True, transform=composed)\n",
    "\n",
    "train_loader = torch.utils.data.DataLoader(dataset=train_dataset, batch_size=100)\n",
    "validation_loader = torch.utils.data.DataLoader(dataset=validation_dataset, batch_size=5000)"
   ],
   "metadata": {
    "collapsed": false
   },
   "id": "1d8ff51fcf3b8da3",
   "execution_count": null
  },
  {
   "cell_type": "code",
   "outputs": [],
   "source": [
    "time_cpu_start = timer.time()\n",
    "criterion = nn.CrossEntropyLoss()\n",
    "learning_rate = 0.1\n",
    "optimizer = torch.optim.Adam(model_CNN_BATCH.parameters(), lr = learning_rate)\n",
    "\n",
    "accuracy_list_batch, loss_list_batch=train_model(model=model_CNN_BATCH,\n",
    "                                                 n_epochs=10,\n",
    "                                                 train_loader=train_loader,\n",
    "                                                 validation_loader=validation_loader,\n",
    "                                                 validation_dataset=validation_dataset,\n",
    "                                                 optimizer=optimizer,\n",
    "                                                 criterion=criterion,\n",
    "                                                 use_cuda=False)\n",
    "time_cpu_end = timer.time()\n",
    "time_cpu_elapsed = time_cpu_end - time_cpu_start"
   ],
   "metadata": {
    "collapsed": false
   },
   "id": "26bc2b211d7ae15d",
   "execution_count": null
  },
  {
   "cell_type": "code",
   "outputs": [],
   "source": [
    "time_gpu_start = timer.time()\n",
    "accuracy_list_batch_second, loss_list_batch_second=train_model(model=model_CNN_BATCH,\n",
    "                                                               n_epochs=10,\n",
    "                                                               train_loader=train_loader,\n",
    "                                                               validation_loader=validation_loader,\n",
    "                                                               validation_dataset=validation_dataset,\n",
    "                                                               optimizer=optimizer,\n",
    "                                                               criterion=criterion,\n",
    "                                                               use_cuda=True)\n",
    "time_gpu_end = timer.time()\n",
    "time_gpu_elapsed = time_gpu_end - time_gpu_start"
   ],
   "metadata": {
    "collapsed": false
   },
   "id": "b45e8cc322f04453",
   "execution_count": null
  },
  {
   "cell_type": "code",
   "outputs": [],
   "source": [
    "plt.figure(figsize=(8, 8))\n",
    "plt.plot(loss_list_batch, color='red', label='Train Loss')\n",
    "plt.xlabel('Iterations')\n",
    "plt.ylabel('Loss')\n",
    "plt.title('Loss over iterations')\n",
    "plt.show()"
   ],
   "metadata": {
    "collapsed": false
   },
   "id": "d2adda1c1f9d2a4e",
   "execution_count": null
  },
  {
   "cell_type": "code",
   "outputs": [],
   "source": [
    "plt.figure(figsize=(10, 10))\n",
    "plt.plot(accuracy_list_batch,'bo-')\n",
    "plt.xlabel('Epochs')\n",
    "plt.ylabel('Accuracy')\n",
    "plt.title('Accuracy over epochs')\n",
    "plt.xticks(np.arange(0, len(accuracy_list_batch)))\n",
    "plt.grid()\n",
    "for i,j in enumerate(accuracy_list_batch):\n",
    "    plt.text(i,j,np.round(j,3))\n",
    "plt.show()"
   ],
   "metadata": {
    "collapsed": false
   },
   "id": "8ea59875bcf7b70f",
   "execution_count": null
  },
  {
   "cell_type": "code",
   "outputs": [],
   "source": [
    "plot_channels(model_CNN_BATCH.state_dict()['cnn1.weight'],name='Convolution 1 wights')\n",
    "plot_channels(model_CNN_BATCH.state_dict()['cnn2.weight'],name='Convolution 2 wights')\n",
    "plot_channels(model_CNN_BATCH.state_dict()['cnn3.weight'],name='Convolution 3 wights')"
   ],
   "metadata": {
    "collapsed": false
   },
   "id": "d05fa3b27bc01ba",
   "execution_count": null
  },
  {
   "cell_type": "code",
   "outputs": [],
   "source": [
    "show_data(train_dataset[1])\n",
    "out = model_CNN_BATCH.activations(train_dataset[1][0].view(1, 1, IMAGE_SIZE, IMAGE_SIZE))\n"
   ],
   "metadata": {
    "collapsed": false
   },
   "id": "b18739e12a54df65",
   "execution_count": null
  },
  {
   "cell_type": "code",
   "outputs": [],
   "source": [
    "plot_activations(out[0], number_rows=4, name=\"Output after the 1st CNN\")\n",
    "plot_activations(out[1], number_rows=4, name=\"Output after the 1st Relu\")\n",
    "plot_activations(out[2], number_rows=32//4, name=\"Output after the 2nd CNN\")\n",
    "plot_activations(out[3], number_rows=32//4, name=\"Output after the 2nd Relu\")\n",
    "plot_activations(out[4], number_rows=64//4, name=\"Output after the 3nd CNN\")\n",
    "plot_activations(out[5], number_rows=64//4, name=\"Output after the 3nd Relu\")"
   ],
   "metadata": {
    "collapsed": false
   },
   "id": "8cdb3c3da6bf9943",
   "execution_count": null
  },
  {
   "cell_type": "code",
   "outputs": [],
   "source": [
    "show_data(train_dataset[10])\n",
    "out_1 = model_CNN_BATCH.activations(train_dataset[10][0].view(1, 1, IMAGE_SIZE, IMAGE_SIZE))\n"
   ],
   "metadata": {
    "collapsed": false
   },
   "id": "8d4c738d9fdd4b26",
   "execution_count": null
  },
  {
   "cell_type": "code",
   "outputs": [],
   "source": [
    "plot_activations(out_1[0], number_rows=4, name=\"Output after the 1st CNN\")\n",
    "plot_activations(out_1[1], number_rows=4, name=\"Output after the 1st Relu\")\n",
    "plot_activations(out_1[2], number_rows=32//4, name=\"Output after the 2nd CNN\")\n",
    "plot_activations(out_1[3], number_rows=32//4, name=\"Output after the 2nd Relu\")\n",
    "plot_activations(out_1[4], number_rows=64//4, name=\"Output after the 3nd CNN\")\n",
    "plot_activations(out_1[5], number_rows=64//4, name=\"Output after the 3nd Relu\")"
   ],
   "metadata": {
    "collapsed": false
   },
   "id": "5ad00d9f3c62cf57",
   "execution_count": null
  },
  {
   "cell_type": "code",
   "outputs": [],
   "source": [
    "show_data(train_dataset[106])\n",
    "out_2 = model_CNN_BATCH.activations(train_dataset[10][0].view(1, 1, IMAGE_SIZE, IMAGE_SIZE))"
   ],
   "metadata": {
    "collapsed": false
   },
   "id": "f3acd15645ab2e",
   "execution_count": null
  },
  {
   "cell_type": "code",
   "outputs": [],
   "source": [
    "plot_activations(out_2[0], number_rows=4, name=\"Output after the 1st CNN\")\n",
    "plot_activations(out_2[1], number_rows=4, name=\"Output after the 1st Relu\")\n",
    "plot_activations(out_2[2], number_rows=32//4, name=\"Output after the 2nd CNN\")\n",
    "plot_activations(out_2[3], number_rows=32//4, name=\"Output after the 2nd Relu\")\n",
    "plot_activations(out_2[4], number_rows=64//4, name=\"Output after the 3nd CNN\")\n",
    "plot_activations(out_2[5], number_rows=64//4, name=\"Output after the 3nd Relu\")"
   ],
   "metadata": {
    "collapsed": false
   },
   "id": "ee2dd28eeb5a9249",
   "execution_count": null
  },
  {
   "cell_type": "code",
   "outputs": [],
   "source": [
    "count = 0\n",
    "for x, y in torch.utils.data.DataLoader(dataset=validation_dataset, batch_size=1):\n",
    "    z = model_CNN_BATCH(x)\n",
    "    _, yhat = torch.max(z, 1)\n",
    "    if yhat != y:\n",
    "        show_data((x, y))\n",
    "        plt.show()\n",
    "        print(\"yhat: \",yhat)\n",
    "        count += 1\n",
    "    if count >= 5:\n",
    "        break  "
   ],
   "metadata": {
    "collapsed": false
   },
   "id": "d2e854f937f04a0a",
   "execution_count": null
  },
  {
   "cell_type": "code",
   "outputs": [],
   "source": [
    "torch.save(model_CNN_BATCH.state_dict(), 'CNN_model.pt')"
   ],
   "metadata": {
    "collapsed": false
   },
   "id": "80f1d73dc4515a01",
   "execution_count": null
  },
  {
   "cell_type": "code",
   "outputs": [],
   "source": [],
   "metadata": {
    "collapsed": false
   },
   "id": "ed59485861bb0d01"
  }
 ],
 "metadata": {
  "kernelspec": {
   "display_name": "Python 3",
   "language": "python",
   "name": "python3"
  },
  "language_info": {
   "codemirror_mode": {
    "name": "ipython",
    "version": 2
   },
   "file_extension": ".py",
   "mimetype": "text/x-python",
   "name": "python",
   "nbconvert_exporter": "python",
   "pygments_lexer": "ipython2",
   "version": "2.7.6"
  }
 },
 "nbformat": 4,
 "nbformat_minor": 5
}
